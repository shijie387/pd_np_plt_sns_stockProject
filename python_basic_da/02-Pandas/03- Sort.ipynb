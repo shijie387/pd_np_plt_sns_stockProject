{
 "cells": [
  {
   "cell_type": "code",
   "execution_count": 2,
   "metadata": {},
   "outputs": [],
   "source": [
    "import numpy as np\n",
    "import pandas as pd\n",
    "from pandas import Series, DataFrame"
   ]
  },
  {
   "cell_type": "code",
   "execution_count": 3,
   "metadata": {},
   "outputs": [],
   "source": [
    "s1 = Series(np.random.randn(10))"
   ]
  },
  {
   "cell_type": "code",
   "execution_count": 4,
   "metadata": {},
   "outputs": [
    {
     "data": {
      "text/plain": [
       "0   -1.189901\n",
       "1   -0.970293\n",
       "2    1.801014\n",
       "3    0.177891\n",
       "4   -0.995388\n",
       "5    1.209244\n",
       "6    1.925851\n",
       "7   -1.179320\n",
       "8    1.105114\n",
       "9    0.369032\n",
       "dtype: float64"
      ]
     },
     "execution_count": 4,
     "metadata": {},
     "output_type": "execute_result"
    }
   ],
   "source": [
    "s1"
   ]
  },
  {
   "cell_type": "code",
   "execution_count": 6,
   "metadata": {},
   "outputs": [
    {
     "data": {
      "text/plain": [
       "array([-1.18990112, -0.97029253,  1.80101409,  0.1778909 , -0.99538779,\n",
       "        1.20924378,  1.92585118, -1.17932011,  1.10511383,  0.36903177])"
      ]
     },
     "execution_count": 6,
     "metadata": {},
     "output_type": "execute_result"
    }
   ],
   "source": [
    "s1.values"
   ]
  },
  {
   "cell_type": "code",
   "execution_count": 8,
   "metadata": {},
   "outputs": [
    {
     "data": {
      "text/plain": [
       "RangeIndex(start=0, stop=10, step=1)"
      ]
     },
     "execution_count": 8,
     "metadata": {},
     "output_type": "execute_result"
    }
   ],
   "source": [
    "s1.index"
   ]
  },
  {
   "cell_type": "code",
   "execution_count": 11,
   "metadata": {},
   "outputs": [
    {
     "data": {
      "text/plain": [
       "6    1.925851\n",
       "2    1.801014\n",
       "5    1.209244\n",
       "8    1.105114\n",
       "9    0.369032\n",
       "3    0.177891\n",
       "1   -0.970293\n",
       "4   -0.995388\n",
       "7   -1.179320\n",
       "0   -1.189901\n",
       "dtype: float64"
      ]
     },
     "execution_count": 11,
     "metadata": {},
     "output_type": "execute_result"
    }
   ],
   "source": [
    "s2=s1.sort_values(ascending=False)\n",
    "s2"
   ]
  },
  {
   "cell_type": "code",
   "execution_count": 13,
   "metadata": {},
   "outputs": [
    {
     "data": {
      "text/plain": [
       "0   -1.189901\n",
       "1   -0.970293\n",
       "2    1.801014\n",
       "3    0.177891\n",
       "4   -0.995388\n",
       "5    1.209244\n",
       "6    1.925851\n",
       "7   -1.179320\n",
       "8    1.105114\n",
       "9    0.369032\n",
       "dtype: float64"
      ]
     },
     "execution_count": 13,
     "metadata": {},
     "output_type": "execute_result"
    }
   ],
   "source": [
    " s2.sort_index()"
   ]
  },
  {
   "cell_type": "code",
   "execution_count": null,
   "metadata": {},
   "outputs": [],
   "source": []
  },
  {
   "cell_type": "code",
   "execution_count": null,
   "metadata": {},
   "outputs": [],
   "source": []
  },
  {
   "cell_type": "code",
   "execution_count": null,
   "metadata": {},
   "outputs": [],
   "source": []
  },
  {
   "cell_type": "code",
   "execution_count": null,
   "metadata": {},
   "outputs": [],
   "source": []
  },
  {
   "cell_type": "code",
   "execution_count": 16,
   "metadata": {},
   "outputs": [
    {
     "data": {
      "text/html": [
       "<div>\n",
       "<style scoped>\n",
       "    .dataframe tbody tr th:only-of-type {\n",
       "        vertical-align: middle;\n",
       "    }\n",
       "\n",
       "    .dataframe tbody tr th {\n",
       "        vertical-align: top;\n",
       "    }\n",
       "\n",
       "    .dataframe thead th {\n",
       "        text-align: right;\n",
       "    }\n",
       "</style>\n",
       "<table border=\"1\" class=\"dataframe\">\n",
       "  <thead>\n",
       "    <tr style=\"text-align: right;\">\n",
       "      <th></th>\n",
       "      <th>A</th>\n",
       "      <th>B</th>\n",
       "      <th>C</th>\n",
       "      <th>D</th>\n",
       "      <th>E</th>\n",
       "    </tr>\n",
       "  </thead>\n",
       "  <tbody>\n",
       "    <tr>\n",
       "      <th>0</th>\n",
       "      <td>-0.217068</td>\n",
       "      <td>-0.753729</td>\n",
       "      <td>0.655203</td>\n",
       "      <td>1.592767</td>\n",
       "      <td>-0.282949</td>\n",
       "    </tr>\n",
       "    <tr>\n",
       "      <th>1</th>\n",
       "      <td>-0.063915</td>\n",
       "      <td>1.121542</td>\n",
       "      <td>-0.417701</td>\n",
       "      <td>-2.109527</td>\n",
       "      <td>-1.695739</td>\n",
       "    </tr>\n",
       "    <tr>\n",
       "      <th>2</th>\n",
       "      <td>-1.135662</td>\n",
       "      <td>0.641294</td>\n",
       "      <td>0.583051</td>\n",
       "      <td>0.828972</td>\n",
       "      <td>-0.545133</td>\n",
       "    </tr>\n",
       "    <tr>\n",
       "      <th>3</th>\n",
       "      <td>1.006897</td>\n",
       "      <td>-0.623046</td>\n",
       "      <td>-1.243858</td>\n",
       "      <td>-1.097491</td>\n",
       "      <td>-0.474301</td>\n",
       "    </tr>\n",
       "    <tr>\n",
       "      <th>4</th>\n",
       "      <td>0.479933</td>\n",
       "      <td>0.231848</td>\n",
       "      <td>0.427303</td>\n",
       "      <td>2.087228</td>\n",
       "      <td>-0.605872</td>\n",
       "    </tr>\n",
       "    <tr>\n",
       "      <th>5</th>\n",
       "      <td>0.973310</td>\n",
       "      <td>-0.665643</td>\n",
       "      <td>-0.329354</td>\n",
       "      <td>-0.978035</td>\n",
       "      <td>-1.331660</td>\n",
       "    </tr>\n",
       "    <tr>\n",
       "      <th>6</th>\n",
       "      <td>-0.861264</td>\n",
       "      <td>-0.644543</td>\n",
       "      <td>1.212220</td>\n",
       "      <td>-0.063107</td>\n",
       "      <td>0.332678</td>\n",
       "    </tr>\n",
       "    <tr>\n",
       "      <th>7</th>\n",
       "      <td>-0.366916</td>\n",
       "      <td>-0.361008</td>\n",
       "      <td>2.137052</td>\n",
       "      <td>-0.076110</td>\n",
       "      <td>1.494366</td>\n",
       "    </tr>\n",
       "  </tbody>\n",
       "</table>\n",
       "</div>"
      ],
      "text/plain": [
       "          A         B         C         D         E\n",
       "0 -0.217068 -0.753729  0.655203  1.592767 -0.282949\n",
       "1 -0.063915  1.121542 -0.417701 -2.109527 -1.695739\n",
       "2 -1.135662  0.641294  0.583051  0.828972 -0.545133\n",
       "3  1.006897 -0.623046 -1.243858 -1.097491 -0.474301\n",
       "4  0.479933  0.231848  0.427303  2.087228 -0.605872\n",
       "5  0.973310 -0.665643 -0.329354 -0.978035 -1.331660\n",
       "6 -0.861264 -0.644543  1.212220 -0.063107  0.332678\n",
       "7 -0.366916 -0.361008  2.137052 -0.076110  1.494366"
      ]
     },
     "execution_count": 16,
     "metadata": {},
     "output_type": "execute_result"
    }
   ],
   "source": [
    "df1 = DataFrame(np.random.randn(40).reshape(8,5), columns=['A','B','C','D','E'])\n",
    "df1"
   ]
  },
  {
   "cell_type": "code",
   "execution_count": 18,
   "metadata": {},
   "outputs": [
    {
     "data": {
      "text/plain": [
       "2   -1.135662\n",
       "6   -0.861264\n",
       "7   -0.366916\n",
       "0   -0.217068\n",
       "1   -0.063915\n",
       "4    0.479933\n",
       "5    0.973310\n",
       "3    1.006897\n",
       "Name: A, dtype: float64"
      ]
     },
     "execution_count": 18,
     "metadata": {},
     "output_type": "execute_result"
    }
   ],
   "source": [
    "df1['A'].sort_values()"
   ]
  },
  {
   "cell_type": "code",
   "execution_count": 21,
   "metadata": {},
   "outputs": [
    {
     "data": {
      "text/html": [
       "<div>\n",
       "<style scoped>\n",
       "    .dataframe tbody tr th:only-of-type {\n",
       "        vertical-align: middle;\n",
       "    }\n",
       "\n",
       "    .dataframe tbody tr th {\n",
       "        vertical-align: top;\n",
       "    }\n",
       "\n",
       "    .dataframe thead th {\n",
       "        text-align: right;\n",
       "    }\n",
       "</style>\n",
       "<table border=\"1\" class=\"dataframe\">\n",
       "  <thead>\n",
       "    <tr style=\"text-align: right;\">\n",
       "      <th></th>\n",
       "      <th>A</th>\n",
       "      <th>B</th>\n",
       "      <th>C</th>\n",
       "      <th>D</th>\n",
       "      <th>E</th>\n",
       "    </tr>\n",
       "  </thead>\n",
       "  <tbody>\n",
       "    <tr>\n",
       "      <th>2</th>\n",
       "      <td>-1.135662</td>\n",
       "      <td>0.641294</td>\n",
       "      <td>0.583051</td>\n",
       "      <td>0.828972</td>\n",
       "      <td>-0.545133</td>\n",
       "    </tr>\n",
       "    <tr>\n",
       "      <th>6</th>\n",
       "      <td>-0.861264</td>\n",
       "      <td>-0.644543</td>\n",
       "      <td>1.212220</td>\n",
       "      <td>-0.063107</td>\n",
       "      <td>0.332678</td>\n",
       "    </tr>\n",
       "    <tr>\n",
       "      <th>7</th>\n",
       "      <td>-0.366916</td>\n",
       "      <td>-0.361008</td>\n",
       "      <td>2.137052</td>\n",
       "      <td>-0.076110</td>\n",
       "      <td>1.494366</td>\n",
       "    </tr>\n",
       "    <tr>\n",
       "      <th>0</th>\n",
       "      <td>-0.217068</td>\n",
       "      <td>-0.753729</td>\n",
       "      <td>0.655203</td>\n",
       "      <td>1.592767</td>\n",
       "      <td>-0.282949</td>\n",
       "    </tr>\n",
       "    <tr>\n",
       "      <th>1</th>\n",
       "      <td>-0.063915</td>\n",
       "      <td>1.121542</td>\n",
       "      <td>-0.417701</td>\n",
       "      <td>-2.109527</td>\n",
       "      <td>-1.695739</td>\n",
       "    </tr>\n",
       "    <tr>\n",
       "      <th>4</th>\n",
       "      <td>0.479933</td>\n",
       "      <td>0.231848</td>\n",
       "      <td>0.427303</td>\n",
       "      <td>2.087228</td>\n",
       "      <td>-0.605872</td>\n",
       "    </tr>\n",
       "    <tr>\n",
       "      <th>5</th>\n",
       "      <td>0.973310</td>\n",
       "      <td>-0.665643</td>\n",
       "      <td>-0.329354</td>\n",
       "      <td>-0.978035</td>\n",
       "      <td>-1.331660</td>\n",
       "    </tr>\n",
       "    <tr>\n",
       "      <th>3</th>\n",
       "      <td>1.006897</td>\n",
       "      <td>-0.623046</td>\n",
       "      <td>-1.243858</td>\n",
       "      <td>-1.097491</td>\n",
       "      <td>-0.474301</td>\n",
       "    </tr>\n",
       "  </tbody>\n",
       "</table>\n",
       "</div>"
      ],
      "text/plain": [
       "          A         B         C         D         E\n",
       "2 -1.135662  0.641294  0.583051  0.828972 -0.545133\n",
       "6 -0.861264 -0.644543  1.212220 -0.063107  0.332678\n",
       "7 -0.366916 -0.361008  2.137052 -0.076110  1.494366\n",
       "0 -0.217068 -0.753729  0.655203  1.592767 -0.282949\n",
       "1 -0.063915  1.121542 -0.417701 -2.109527 -1.695739\n",
       "4  0.479933  0.231848  0.427303  2.087228 -0.605872\n",
       "5  0.973310 -0.665643 -0.329354 -0.978035 -1.331660\n",
       "3  1.006897 -0.623046 -1.243858 -1.097491 -0.474301"
      ]
     },
     "execution_count": 21,
     "metadata": {},
     "output_type": "execute_result"
    }
   ],
   "source": [
    "df2 = df1.sort_values('A')\n",
    "df2"
   ]
  },
  {
   "cell_type": "code",
   "execution_count": null,
   "metadata": {},
   "outputs": [],
   "source": []
  }
 ],
 "metadata": {
  "kernelspec": {
   "display_name": "Python 3",
   "language": "python",
   "name": "python3"
  },
  "language_info": {
   "codemirror_mode": {
    "name": "ipython",
    "version": 3
   },
   "file_extension": ".py",
   "mimetype": "text/x-python",
   "name": "python",
   "nbconvert_exporter": "python",
   "pygments_lexer": "ipython3",
   "version": "3.8.5"
  }
 },
 "nbformat": 4,
 "nbformat_minor": 4
}
